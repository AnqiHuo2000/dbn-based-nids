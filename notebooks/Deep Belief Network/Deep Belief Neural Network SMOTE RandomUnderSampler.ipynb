{
 "cells": [
  {
   "cell_type": "markdown",
   "source": [
    "# Building a deep belief network"
   ],
   "metadata": {}
  },
  {
   "cell_type": "code",
   "execution_count": 1,
   "source": [
    "import torch\n",
    "import torch.nn as nn\n",
    "import torch.optim as optim\n",
    "\n",
    "import numpy as np\n",
    "import pandas as pd\n",
    "\n",
    "import matplotlib.pyplot as plt\n",
    "\n",
    "from tqdm import tqdm\n",
    "\n",
    "from data import cicids\n",
    "from utils import utils\n",
    "from models import DBN"
   ],
   "outputs": [],
   "metadata": {}
  },
  {
   "cell_type": "markdown",
   "source": [
    "Check if GPU is active."
   ],
   "metadata": {}
  },
  {
   "cell_type": "code",
   "execution_count": 2,
   "source": [
    "device = 'cuda' if torch.cuda.is_available() else 'cpu'\n",
    "print('Using {} device'.format(device))"
   ],
   "outputs": [
    {
     "output_type": "stream",
     "name": "stdout",
     "text": [
      "Using cpu device\n"
     ]
    }
   ],
   "metadata": {}
  },
  {
   "cell_type": "markdown",
   "source": [
    "### Create the DataLoader"
   ],
   "metadata": {}
  },
  {
   "cell_type": "code",
   "execution_count": 3,
   "source": [
    "# Get the datasets\n",
    "train_data, val_data, test_data = cicids.get_balanced_dataset()\n",
    "\n",
    "# How many instances have we got?\n",
    "print('# instances in training set: ', len(train_data))\n",
    "print('# instances in validation set: ', len(val_data))\n",
    "print('# instances in testing set: ', len(test_data))\n",
    "\n",
    "batch_size = 128\n",
    "\n",
    "# Create the dataloaders - for training, validation and testing\n",
    "train_loader = torch.utils.data.DataLoader(dataset=train_data, batch_size=batch_size, shuffle=True)\n",
    "valid_loader = torch.utils.data.DataLoader(dataset=val_data, batch_size=batch_size, shuffle=True)\n",
    "test_loader  = torch.utils.data.DataLoader(dataset=test_data, batch_size=batch_size, shuffle=False)"
   ],
   "outputs": [
    {
     "output_type": "stream",
     "name": "stdout",
     "text": [
      "# instances in training set:  1318783\n",
      "# instances in validation set:  439595\n",
      "# instances in testing set:  439595\n"
     ]
    }
   ],
   "metadata": {}
  },
  {
   "cell_type": "markdown",
   "source": [
    "### Instantiate the network, the loss function and the optimizer"
   ],
   "metadata": {}
  },
  {
   "cell_type": "code",
   "execution_count": 4,
   "source": [
    "# Defining some input variables\n",
    "n_classes = 6\n",
    "num_epochs = 3\n",
    "tag = \"\"\n",
    "\n",
    "# Creating a DBN\n",
    "model = DBN(n_visible=47,\n",
    "            n_hidden=(128, 64),\n",
    "            k=(1, 1),\n",
    "            learning_rate=(0.1, 0.1),\n",
    "            momentum=(0, 0),\n",
    "            decay=(0, 0), \n",
    "            batch_size=[64, 64],\n",
    "            num_epochs=[1, 1],\n",
    "            device=device)\n",
    "\n",
    "# Training a DBN\n",
    "model.fit(train_loader)\n",
    "\n",
    "# Creating the optimzers\n",
    "optimizer = [optim.Adam(m.parameters(), lr=0.001) for m in model.models]\n",
    "optimizer.append(optim.Adam(model.fc.parameters(), lr=0.001))"
   ],
   "outputs": [],
   "metadata": {}
  },
  {
   "cell_type": "code",
   "execution_count": null,
   "source": [
    "print(model)"
   ],
   "outputs": [],
   "metadata": {}
  },
  {
   "cell_type": "markdown",
   "source": [
    "### Train it"
   ],
   "metadata": {}
  },
  {
   "cell_type": "code",
   "execution_count": 5,
   "source": [
    "def train(\n",
    "    model: torch.nn.ModuleList,\n",
    "    optimizer: torch.optim,\n",
    "    train_loader: torch.utils.data.DataLoader,\n",
    "    valid_loader: torch.utils.data.DataLoader,\n",
    "    num_epochs: int,\n",
    "    device: torch.device,\n",
    "    tag=''\n",
    "):\n",
    "\n",
    "    # Cross-Entropy loss is used for the discriminative fine-tuning\n",
    "    criterion = nn.CrossEntropyLoss()\n",
    "\n",
    "    history = {\n",
    "        'train': {\n",
    "            'total': 0,\n",
    "            'loss': [],\n",
    "            'accuracy': [],\n",
    "            'output_pred': [],\n",
    "            'output_true': []\n",
    "        },\n",
    "        'validation': {\n",
    "            'total': 0,\n",
    "            'loss': [],\n",
    "            'accuracy': [],\n",
    "            'output_pred': [],\n",
    "            'output_true': []\n",
    "        }\n",
    "    }\n",
    "\n",
    "    for epoch in range(1, num_epochs+1):\n",
    "\n",
    "        ##################################\n",
    "        ##          TRAIN LOOP          ##\n",
    "        ##################################\n",
    "        model.train()\n",
    "\n",
    "        train_loss = 0.0\n",
    "        train_steps = 0\n",
    "        train_total = 0\n",
    "        train_correct = 0\n",
    "\n",
    "        train_output_pred = []\n",
    "        train_output_true = []\n",
    "\n",
    "        # For every possible batch\n",
    "        print(f\"{tag} Epoch {epoch}/{num_epochs}:\")\n",
    "        for inputs, labels in tqdm(train_loader):\n",
    "            inputs, labels = inputs.to(device), labels.to(device)\n",
    "\n",
    "            # zero the parameter gradients\n",
    "            for opt in optimizer:\n",
    "                opt.zero_grad()\n",
    "\n",
    "            # Passing the batch down the model\n",
    "            outputs = model(inputs.float())\n",
    "\n",
    "            # forward + backward + optimize\n",
    "            loss = criterion(outputs, labels)\n",
    "            loss.backward()\n",
    "            \n",
    "            # For every possible optimizer performs the gradient update\n",
    "            for opt in optimizer:\n",
    "                opt.step()\n",
    "\n",
    "            train_loss += loss.cpu().item()\n",
    "            train_steps += 1\n",
    "\n",
    "            _, predicted = torch.max(outputs.data, 1)\n",
    "            train_total += labels.size(0)\n",
    "            train_correct += (predicted == labels).sum().item()\n",
    "\n",
    "            train_output_pred += outputs.argmax(1).tolist()\n",
    "            train_output_true += labels.tolist()\n",
    "\n",
    "\n",
    "        ############################################\n",
    "        ##               VALID LOOP               ##\n",
    "        ############################################\n",
    "        model.eval()\n",
    "\n",
    "        # Validation loss\n",
    "        val_loss = 0.0\n",
    "        val_steps = 0\n",
    "        val_total = 0\n",
    "        val_correct = 0\n",
    "\n",
    "        val_output_pred = []\n",
    "        val_output_true = []\n",
    "\n",
    "        for inputs, labels in valid_loader:\n",
    "            with torch.no_grad():\n",
    "\n",
    "                # Passing the batch down the model\n",
    "                outputs = model(inputs.float())\n",
    "\n",
    "                loss = criterion(outputs, labels)\n",
    "                val_loss += loss.cpu().item()\n",
    "                val_steps += 1\n",
    "\n",
    "                _, predicted = torch.max(outputs.data, 1)\n",
    "                val_total += labels.size(0)\n",
    "                val_correct += (predicted == labels).sum().item()\n",
    "\n",
    "                val_output_pred += outputs.argmax(1).tolist()\n",
    "                val_output_true += labels.tolist()\n",
    "\n",
    "        history['train']['total'] = train_total\n",
    "        history['train']['loss'].append(train_loss/train_steps)\n",
    "        history['train']['accuracy'].append(train_correct/train_total)\n",
    "        history['train']['output_pred'] = train_output_pred\n",
    "        history['train']['output_true'] = train_output_true\n",
    "\n",
    "        history['validation']['total'] = val_total\n",
    "        history['validation']['loss'].append(val_loss/val_steps)\n",
    "        history['validation']['accuracy'].append(val_correct/val_total)\n",
    "        history['validation']['output_pred'] = val_output_pred\n",
    "        history['validation']['output_true'] = val_output_true\n",
    "\n",
    "        print(f'{tag} loss: {train_loss/train_steps} - acc: {train_correct/train_total} - val_loss: {val_loss/val_steps} - val_acc: {val_correct/val_total}\\n')\n",
    "    \n",
    "    print(f\"{tag} Finished Training\")\n",
    "    return history, train_loss/train_steps, train_correct/train_total, val_loss/val_steps, val_correct/val_total"
   ],
   "outputs": [],
   "metadata": {}
  },
  {
   "cell_type": "code",
   "execution_count": null,
   "source": [
    "history, _, _, _, _ = train(model, optimizer, train_loader, valid_loader, num_epochs, device)\n",
    "\n",
    "training_loss = history['train']['loss']\n",
    "training_accuracy = history['train']['accuracy']\n",
    "train_output_true = history['train']['output_true']\n",
    "train_output_pred = history['train']['output_pred']\n",
    "\n",
    "validation_loss = history['validation']['loss']\n",
    "validation_accuracy = history['validation']['accuracy']\n",
    "valid_output_true = history['validation']['output_true']\n",
    "valid_output_pred = history['validation']['output_pred']"
   ],
   "outputs": [
    {
     "output_type": "stream",
     "name": "stdout",
     "text": [
      " Epoch 1/3:\n"
     ]
    },
    {
     "output_type": "stream",
     "name": "stderr",
     "text": [
      "100%|██████████| 10303/10303 [07:21<00:00, 23.31it/s]\n"
     ]
    },
    {
     "output_type": "stream",
     "name": "stdout",
     "text": [
      " loss: 0.11694202192753587 - acc: 0.9676519943008062 - val_loss: 0.10293484276209401 - val_acc: 0.9608093813623904\n",
      "\n",
      " Epoch 2/3:\n"
     ]
    },
    {
     "output_type": "stream",
     "name": "stderr",
     "text": [
      "100%|██████████| 10303/10303 [07:53<00:00, 21.77it/s]\n"
     ]
    },
    {
     "output_type": "stream",
     "name": "stdout",
     "text": [
      " loss: 0.03647624514655771 - acc: 0.9902948400153778 - val_loss: 0.07797997099692422 - val_acc: 0.9698631695082974\n",
      "\n",
      " Epoch 3/3:\n"
     ]
    },
    {
     "output_type": "stream",
     "name": "stderr",
     "text": [
      "100%|██████████| 10303/10303 [09:43<00:00, 17.66it/s]\n"
     ]
    }
   ],
   "metadata": {}
  },
  {
   "cell_type": "markdown",
   "source": [
    "### Plot loss vs iterations"
   ],
   "metadata": {}
  },
  {
   "cell_type": "code",
   "execution_count": null,
   "source": [
    "fig = plt.figure(figsize=(12, 8))\n",
    "plt.plot(training_loss, label='train - loss')\n",
    "plt.plot(validation_loss, label='validation - loss')\n",
    "plt.title(\"Train and Validation Loss\")\n",
    "plt.xlabel('Epochs')\n",
    "plt.ylabel('Loss')\n",
    "plt.legend(loc=\"best\")\n",
    "plt.show()\n",
    "\n",
    "fig = plt.figure(figsize=(12, 8))\n",
    "plt.plot(training_accuracy, label='train - accuracy')\n",
    "plt.plot(validation_accuracy, label='validation - accuracy')\n",
    "plt.title(\"Train and Validation Accuracy\")\n",
    "plt.xlabel('epochs')\n",
    "plt.ylabel('Accuracy')\n",
    "plt.ylim(0, 1)\n",
    "plt.legend(loc=\"best\")\n",
    "plt.show()"
   ],
   "outputs": [],
   "metadata": {}
  },
  {
   "cell_type": "markdown",
   "source": [
    "### Plot confusion matrix"
   ],
   "metadata": {}
  },
  {
   "cell_type": "code",
   "execution_count": null,
   "source": [
    "labels = ['Benign', 'Botnet ARES', 'Brute Force', 'DoS/DDoS', 'PortScan', 'Web Attack']\n",
    "\n",
    "utils.plot_confusion_matrix(y_true=train_output_true,\n",
    "                      y_pred=train_output_pred,\n",
    "                      labels=labels,\n",
    "                      title=\"Training Set - Normalized confusion matrix\",\n",
    "                      save=True,\n",
    "                      filename=\"bal_dbn_train_confusion_matrix.png\")"
   ],
   "outputs": [],
   "metadata": {}
  },
  {
   "cell_type": "code",
   "execution_count": null,
   "source": [
    "from sklearn.metrics import classification_report\n",
    "\n",
    "print(\"Training Set -- Classification Report\", end=\"\\n\\n\")\n",
    "print(classification_report(train_output_true, train_output_pred, target_names=labels))"
   ],
   "outputs": [],
   "metadata": {}
  },
  {
   "cell_type": "code",
   "execution_count": null,
   "source": [
    "utils.plot_confusion_matrix(y_true=valid_output_true,\n",
    "                      y_pred=valid_output_pred,\n",
    "                      labels=labels,\n",
    "                      title=\"Validation Set - Normalized confusion matrix\",\n",
    "                      save=True,\n",
    "                      filename=\"bal_dbn_valid_confusion_matrix.png\")"
   ],
   "outputs": [],
   "metadata": {}
  },
  {
   "cell_type": "code",
   "execution_count": null,
   "source": [
    "print(\"Validation Set -- Classification Report\", end=\"\\n\\n\")\n",
    "print(classification_report(valid_output_true, valid_output_pred, target_names=labels))"
   ],
   "outputs": [],
   "metadata": {}
  },
  {
   "cell_type": "markdown",
   "source": [
    "### Test it"
   ],
   "metadata": {}
  },
  {
   "cell_type": "code",
   "execution_count": null,
   "source": [
    "def test(\n",
    "    model: torch.nn.ModuleList,\n",
    "    test_loader: torch.utils.data.DataLoader,\n",
    "    device: torch.device,\n",
    "):\n",
    "    \"\"\"Validate the network.\n",
    "\n",
    "    Parameters\n",
    "    ----------\n",
    "    model: torch.nn.ModuleList\n",
    "        Neural network model used in this example.\n",
    "\n",
    "    test_loader: torch.utils.data.DataLoader\n",
    "        DataLoader used in testing.\n",
    "\n",
    "    device: torch.device\n",
    "        (Default value = torch.device(\"cpu\"))\n",
    "        Device where the network will be trained within a client.\n",
    "\n",
    "    Returns\n",
    "    -------\n",
    "        Tuple containing the history, and a detailed report.\n",
    "\n",
    "    \"\"\"\n",
    "\n",
    "    model.eval()\n",
    "\n",
    "    history = {\n",
    "        'test': {\n",
    "            'total': 0,\n",
    "            'loss': 0.0,\n",
    "            'accuracy': 0.0,\n",
    "            'output_pred': [],\n",
    "            'output_true': [],\n",
    "            'output_pred_prob': []\n",
    "        }\n",
    "    }\n",
    "\n",
    "    criterion = torch.nn.CrossEntropyLoss()\n",
    "\n",
    "    test_loss = 0.0\n",
    "    test_steps = 0\n",
    "    test_total = 0\n",
    "    test_correct = 0\n",
    "\n",
    "    test_output_pred = []\n",
    "    test_output_true = []\n",
    "    test_output_pred_prob = []\n",
    "\n",
    "    with torch.no_grad():\n",
    "        for (inputs, labels) in tqdm(test_loader):\n",
    "            inputs, labels = inputs.to(device), labels.to(device)\n",
    "\n",
    "            outputs = model(inputs.float())\n",
    "            \n",
    "            loss = criterion(outputs, labels)\n",
    "\n",
    "            test_loss += loss.cpu().item()\n",
    "            test_steps += 1\n",
    "\n",
    "            _, predicted = torch.max(outputs.data, 1)\n",
    "            test_total += labels.size(0)\n",
    "            test_correct += (predicted == labels).sum().item()\n",
    "\n",
    "            test_output_pred += outputs.argmax(1).cpu().tolist()\n",
    "            test_output_true += labels.tolist()\n",
    "            test_output_pred_prob += nn.functional.softmax(outputs, dim=0).cpu().tolist()\n",
    "\n",
    "    history['test']['total'] = test_total\n",
    "    history['test']['loss'] = test_loss/test_steps\n",
    "    history['test']['accuracy'] = test_correct/test_total\n",
    "    history['test']['output_pred'] = test_output_pred\n",
    "    history['test']['output_true'] = test_output_true\n",
    "    history['test']['output_pred_prob'] = test_output_pred_prob\n",
    "\n",
    "    print(f'Test loss: {test_loss/test_steps}, Test accuracy: {test_correct/test_total}')\n",
    "\n",
    "    report = classification_report(\n",
    "        y_true=history['test']['output_true'],\n",
    "        y_pred=test_output_pred,\n",
    "        zero_division=0,\n",
    "        target_names=['Benign', 'Botnet ARES', 'Brute Force', 'DoS/DDoS', 'PortScan', 'Web Attack'],\n",
    "        output_dict=True,\n",
    "        digits=4,\n",
    "    )\n",
    "\n",
    "    return history, report"
   ],
   "outputs": [],
   "metadata": {}
  },
  {
   "cell_type": "code",
   "execution_count": null,
   "source": [
    "#################\n",
    "### TEST LOOP ###\n",
    "#################\n",
    "history, report = test(model, test_loader, device)\n",
    "\n",
    "test_output_pred = history['test']['output_pred']\n",
    "test_output_pred_prob = history['test']['output_pred_prob']"
   ],
   "outputs": [],
   "metadata": {}
  },
  {
   "cell_type": "markdown",
   "source": [
    "### Classification Report"
   ],
   "metadata": {}
  },
  {
   "cell_type": "code",
   "execution_count": null,
   "source": [
    "utils.plot_confusion_matrix(y_true=test_data.labels['label'].tolist(),\n",
    "                            y_pred=test_output_pred,\n",
    "                            labels=labels,\n",
    "                            title=\"Testing Set - Normalized confusion matrix\",\n",
    "                            save=True,\n",
    "                            filename=\"bal_dbn_test_confusion_matrix.png\")"
   ],
   "outputs": [],
   "metadata": {}
  },
  {
   "cell_type": "code",
   "execution_count": null,
   "source": [
    "print(\"Testing Set -- Classification Report\", end=\"\\n\\n\")\n",
    "print(classification_report(test_data.labels['label'].tolist(), test_output_pred, target_names=labels))"
   ],
   "outputs": [],
   "metadata": {}
  },
  {
   "cell_type": "markdown",
   "source": [
    "### Plot ROC curve"
   ],
   "metadata": {}
  },
  {
   "cell_type": "code",
   "execution_count": null,
   "source": [
    "y_test = test_data.labels['label'].tolist()\n",
    "y_test = pd.get_dummies(y_test).values\n",
    "y_score = np.array(test_output_pred_prob)"
   ],
   "outputs": [],
   "metadata": {}
  },
  {
   "cell_type": "code",
   "execution_count": null,
   "source": [
    "utils.plot_roc_curve(y_test=y_test,\n",
    "                     y_score=y_score,\n",
    "                     labels=labels,\n",
    "                     save=True,\n",
    "                     filename=\"bal_dbn_roc_curve.png\")"
   ],
   "outputs": [],
   "metadata": {}
  },
  {
   "cell_type": "markdown",
   "source": [
    "### Plot Precision vs. Recall curve"
   ],
   "metadata": {}
  },
  {
   "cell_type": "code",
   "execution_count": null,
   "source": [
    "utils.plot_precision_recall_curve(y_test,\n",
    "                                  y_score,\n",
    "                                  labels=labels,\n",
    "                                  save=True,\n",
    "                                  filename=\"bal_dbn_prec_recall_curve.png\")"
   ],
   "outputs": [],
   "metadata": {}
  },
  {
   "cell_type": "markdown",
   "source": [
    "### Save Model"
   ],
   "metadata": {}
  },
  {
   "cell_type": "code",
   "execution_count": null,
   "source": [
    "path = '../checkpoints/bal_deep_belief_network.pt'\n",
    "torch.save({\n",
    "            'epoch': num_epochs,\n",
    "            'model_state_dict': model.state_dict(),\n",
    "            # 'optimizer_state_dict': optimizer.state_dict(),\n",
    "            }, path)"
   ],
   "outputs": [],
   "metadata": {}
  }
 ],
 "metadata": {
  "interpreter": {
   "hash": "aee8b7b246df8f9039afb4144a1f6fd8d2ca17a180786b69acc140d282b71a49"
  },
  "kernelspec": {
   "display_name": "Python 3",
   "language": "python",
   "name": "python3"
  },
  "language_info": {
   "codemirror_mode": {
    "name": "ipython",
    "version": 3
   },
   "file_extension": ".py",
   "mimetype": "text/x-python",
   "name": "python",
   "nbconvert_exporter": "python",
   "pygments_lexer": "ipython3",
   "version": "3.9.6"
  }
 },
 "nbformat": 4,
 "nbformat_minor": 5
}